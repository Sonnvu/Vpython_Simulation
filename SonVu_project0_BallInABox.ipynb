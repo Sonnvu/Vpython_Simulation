{
 "cells": [
  {
   "cell_type": "markdown",
   "id": "bd528890",
   "metadata": {},
   "source": [
    "\n",
    "# Project 0: Simulating a ball bounce inside a box\n"
   ]
  },
  {
   "cell_type": "code",
   "execution_count": 1,
   "id": "0ac24b25",
   "metadata": {},
   "outputs": [
    {
     "data": {
      "text/html": [
       "<div id=\"glowscript\" class=\"glowscript\"></div>"
      ],
      "text/plain": [
       "<IPython.core.display.HTML object>"
      ]
     },
     "metadata": {},
     "output_type": "display_data"
    },
    {
     "data": {
      "application/javascript": [
       "if (typeof Jupyter !== \"undefined\") { window.__context = { glowscript_container: $(\"#glowscript\").removeAttr(\"id\")};}else{ element.textContent = ' ';}"
      ],
      "text/plain": [
       "<IPython.core.display.Javascript object>"
      ]
     },
     "metadata": {},
     "output_type": "display_data"
    },
    {
     "data": {
      "text/html": [
       "<div id=\"glowscript\" class=\"glowscript\"></div>"
      ],
      "text/plain": [
       "<IPython.core.display.HTML object>"
      ]
     },
     "metadata": {},
     "output_type": "display_data"
    },
    {
     "data": {
      "application/javascript": [
       "if (typeof Jupyter !== \"undefined\") { window.__context = { glowscript_container: $(\"#glowscript\").removeAttr(\"id\")};}else{ element.textContent = ' ';}"
      ],
      "text/plain": [
       "<IPython.core.display.Javascript object>"
      ]
     },
     "metadata": {},
     "output_type": "display_data"
    }
   ],
   "source": [
    "from vpython import *\n",
    "scene = canvas()"
   ]
  },
  {
   "cell_type": "markdown",
   "id": "a5c8cf9e",
   "metadata": {},
   "source": [
    "\n",
    "## Constructing the box\n"
   ]
  },
  {
   "cell_type": "code",
   "execution_count": 2,
   "id": "4efee184",
   "metadata": {},
   "outputs": [
    {
     "data": {
      "application/javascript": [
       "if (typeof Jupyter !== \"undefined\") {require.undef(\"nbextensions/vpython_libraries/glow.min\");}else{element.textContent = ' ';}"
      ],
      "text/plain": [
       "<IPython.core.display.Javascript object>"
      ]
     },
     "metadata": {},
     "output_type": "display_data"
    },
    {
     "data": {
      "application/javascript": [
       "if (typeof Jupyter !== \"undefined\") {require.undef(\"nbextensions/vpython_libraries/glowcomm\");}else{element.textContent = ' ';}"
      ],
      "text/plain": [
       "<IPython.core.display.Javascript object>"
      ]
     },
     "metadata": {},
     "output_type": "display_data"
    },
    {
     "data": {
      "application/javascript": [
       "if (typeof Jupyter !== \"undefined\") {require.undef(\"nbextensions/vpython_libraries/jquery-ui.custom.min\");}else{element.textContent = ' ';}"
      ],
      "text/plain": [
       "<IPython.core.display.Javascript object>"
      ]
     },
     "metadata": {},
     "output_type": "display_data"
    },
    {
     "data": {
      "application/javascript": [
       "if (typeof Jupyter !== \"undefined\") {require([\"nbextensions/vpython_libraries/glow.min\"], function(){console.log(\"GLOW LOADED\");});}else{element.textContent = ' ';}"
      ],
      "text/plain": [
       "<IPython.core.display.Javascript object>"
      ]
     },
     "metadata": {},
     "output_type": "display_data"
    },
    {
     "data": {
      "application/javascript": [
       "if (typeof Jupyter !== \"undefined\") {require([\"nbextensions/vpython_libraries/glowcomm\"], function(){console.log(\"GLOWCOMM LOADED\");});}else{element.textContent = ' ';}"
      ],
      "text/plain": [
       "<IPython.core.display.Javascript object>"
      ]
     },
     "metadata": {},
     "output_type": "display_data"
    },
    {
     "data": {
      "application/javascript": [
       "if (typeof Jupyter !== \"undefined\") {require([\"nbextensions/vpython_libraries/jquery-ui.custom.min\"], function(){console.log(\"JQUERY LOADED\");});}else{element.textContent = ' ';}"
      ],
      "text/plain": [
       "<IPython.core.display.Javascript object>"
      ]
     },
     "metadata": {},
     "output_type": "display_data"
    }
   ],
   "source": [
    "# creating a ball and a wall\n",
    "# ball = sphere(pos=vector(-5,0,0), radius=0.5, color=color.cyan, make_trail=True) \n",
    "wallR = box(pos=vector(6,0,0), size=vector(0.2,12,12), color=color.green) \n",
    "\n",
    "# adding left, top, bottom, back and front wall to make a box\n",
    "wallL = box(pos=vector(-6,0,0), size=vector(0.2,12,12), color=color.green)\n",
    "wallT = box(pos=vector(0,6,0), size=vector(12,0.2,12), color=color.blue)\n",
    "wallB = box(pos=vector(0,-6,0), size=vector(12,0.2,12), color=color.blue)\n",
    "wallback = box(pos=vector(0,0,-6), size=vector(12, 12, 0.2), color=color.red)\n",
    "wallfront = box(pos=vector(0,0,6), size=vector(12, 12, 0.2), color=color.red, opacity=0)"
   ]
  },
  {
   "cell_type": "markdown",
   "id": "0b06d51f",
   "metadata": {},
   "source": [
    "\n",
    "## Simulating ball physics\n"
   ]
  },
  {
   "cell_type": "code",
   "execution_count": 3,
   "id": "2af526f3",
   "metadata": {},
   "outputs": [],
   "source": [
    "ball = sphere(pos=vector(-5,0,0), radius=0.5, color=color.cyan, make_trail=True) \n",
    "\n",
    "# making the ball move across by initializing ball velocity\n",
    "ball.velocity = vector(25,5,15)\n",
    "deltat = 0.005\n",
    "t = 0\n",
    "\n",
    "# creating velocity arrow\n",
    "vscale = 0.1\n",
    "varr = arrow(pos=ball.pos, axis=vscale*ball.velocity, color=color.yellow)\n",
    "\n",
    "scene.autoscale = False\n",
    "\n",
    "while t < 3:\n",
    "    rate(100)\n",
    "    \n",
    "    # making the ball bounce when hit the wall\n",
    "    if ball.pos.x > wallR.pos.x or ball.pos.x < wallL.pos.x:\n",
    "        ball.velocity.x = -ball.velocity.x\n",
    "    if ball.pos.y > wallT.pos.y or ball.pos.y < wallB.pos.y:\n",
    "        ball.velocity.y = -ball.velocity.y\n",
    "    if ball.pos.z > wallfront.pos.z or ball.pos.z < wallback.pos.z:\n",
    "        ball.velocity.z = -ball.velocity.z\n",
    "        \n",
    "    # updating ball position\n",
    "    ball.pos = ball.pos + ball.velocity*deltat\n",
    "    \n",
    "    # updating arrow position\n",
    "    varr.pos = ball.pos\n",
    "    varr.axis = vscale*ball.velocity\n",
    "    \n",
    "    t = t + deltat"
   ]
  },
  {
   "cell_type": "markdown",
   "id": "e6d96193",
   "metadata": {},
   "source": [
    "\n",
    "## Goals\n"
   ]
  },
  {
   "cell_type": "markdown",
   "id": "c4dbd337",
   "metadata": {},
   "source": [
    "In this course, my goals and expectation are simply to learn, understand and asorb the materials that are presented to me as much as possible while having a good time. Everything in this course sounds very exiciting and beneficial to me in the future, so it is my goals as well as my responsibility to learn as much as I could so that at the end of the semester, I will be able to gain solid and tangible skills in simulation specifically and Python programming in general. "
   ]
  }
 ],
 "metadata": {
  "kernelspec": {
   "display_name": "Python 3 (ipykernel)",
   "language": "python",
   "name": "python3"
  },
  "language_info": {
   "codemirror_mode": {
    "name": "ipython",
    "version": 3
   },
   "file_extension": ".py",
   "mimetype": "text/x-python",
   "name": "python",
   "nbconvert_exporter": "python",
   "pygments_lexer": "ipython3",
   "version": "3.9.15"
  }
 },
 "nbformat": 4,
 "nbformat_minor": 5
}
