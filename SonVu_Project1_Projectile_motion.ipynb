{
 "cells": [
  {
   "cell_type": "markdown",
   "id": "094069ba",
   "metadata": {},
   "source": [
    "\n",
    "# Project 1: Gravitational Physics\n"
   ]
  },
  {
   "cell_type": "code",
   "execution_count": 2,
   "id": "a05d4da0",
   "metadata": {},
   "outputs": [
    {
     "data": {
      "text/html": [
       "<div id=\"glowscript\" class=\"glowscript\"></div>"
      ],
      "text/plain": [
       "<IPython.core.display.HTML object>"
      ]
     },
     "metadata": {},
     "output_type": "display_data"
    },
    {
     "data": {
      "application/javascript": [
       "if (typeof Jupyter !== \"undefined\") { window.__context = { glowscript_container: $(\"#glowscript\").removeAttr(\"id\")};}else{ element.textContent = ' ';}"
      ],
      "text/plain": [
       "<IPython.core.display.Javascript object>"
      ]
     },
     "metadata": {},
     "output_type": "display_data"
    }
   ],
   "source": [
    "from vpython import *\n",
    "import numpy as np\n",
    "import matplotlib.pyplot as plt"
   ]
  },
  {
   "cell_type": "markdown",
   "id": "06de4a94",
   "metadata": {},
   "source": [
    "## 1. Ball Falling Simulation"
   ]
  },
  {
   "cell_type": "markdown",
   "id": "0d615e66",
   "metadata": {},
   "source": [
    "### 1.1 Without air resistance"
   ]
  },
  {
   "cell_type": "markdown",
   "id": "5d03a9e8",
   "metadata": {},
   "source": [
    "\n",
    "__Verification:__\n",
    "For verification of this simulation, on slide 61 of gravity_lecture_2234, we take advantage of the fact that it takes __4.518s__ to fall __100m__. So to see if the simulation is valid, we set run time __t__ run for __4.518__ seconds with __deltat = 0.01__ and __rate(100)__ to achieve real time\n",
    "<br>\n",
    "If the simulation is valid, the fall distance of the ball should be approximately __100m__ \n",
    "<br>\n",
    "(result is under simulation canvas)\n",
    "<br>\n",
    "<br>\n",
    "__Assumption:__\n",
    "<br> \n",
    "Ball is only affected by Earth's gravitational force\n",
    "<br>\n",
    "Initial velocity = 0\n",
    "<br>\n",
    "ball's mass = 0.05kg\n",
    "<br>\n",
    "There is __no__ air resistance"
   ]
  },
  {
   "cell_type": "code",
   "execution_count": 3,
   "id": "4e30bd2d",
   "metadata": {
    "scrolled": true
   },
   "outputs": [
    {
     "data": {
      "text/html": [
       "<div id=\"glowscript\" class=\"glowscript\"></div>"
      ],
      "text/plain": [
       "<IPython.core.display.HTML object>"
      ]
     },
     "metadata": {},
     "output_type": "display_data"
    },
    {
     "data": {
      "application/javascript": [
       "if (typeof Jupyter !== \"undefined\") { window.__context = { glowscript_container: $(\"#glowscript\").removeAttr(\"id\")};}else{ element.textContent = ' ';}"
      ],
      "text/plain": [
       "<IPython.core.display.Javascript object>"
      ]
     },
     "metadata": {},
     "output_type": "display_data"
    },
    {
     "data": {
      "application/javascript": [
       "if (typeof Jupyter !== \"undefined\") {require.undef(\"nbextensions/vpython_libraries/glow.min\");}else{element.textContent = ' ';}"
      ],
      "text/plain": [
       "<IPython.core.display.Javascript object>"
      ]
     },
     "metadata": {},
     "output_type": "display_data"
    },
    {
     "data": {
      "application/javascript": [
       "if (typeof Jupyter !== \"undefined\") {require.undef(\"nbextensions/vpython_libraries/glowcomm\");}else{element.textContent = ' ';}"
      ],
      "text/plain": [
       "<IPython.core.display.Javascript object>"
      ]
     },
     "metadata": {},
     "output_type": "display_data"
    },
    {
     "data": {
      "application/javascript": [
       "if (typeof Jupyter !== \"undefined\") {require.undef(\"nbextensions/vpython_libraries/jquery-ui.custom.min\");}else{element.textContent = ' ';}"
      ],
      "text/plain": [
       "<IPython.core.display.Javascript object>"
      ]
     },
     "metadata": {},
     "output_type": "display_data"
    },
    {
     "data": {
      "application/javascript": [
       "if (typeof Jupyter !== \"undefined\") {require([\"nbextensions/vpython_libraries/glow.min\"], function(){console.log(\"GLOW LOADED\");});}else{element.textContent = ' ';}"
      ],
      "text/plain": [
       "<IPython.core.display.Javascript object>"
      ]
     },
     "metadata": {},
     "output_type": "display_data"
    },
    {
     "data": {
      "application/javascript": [
       "if (typeof Jupyter !== \"undefined\") {require([\"nbextensions/vpython_libraries/glowcomm\"], function(){console.log(\"GLOWCOMM LOADED\");});}else{element.textContent = ' ';}"
      ],
      "text/plain": [
       "<IPython.core.display.Javascript object>"
      ]
     },
     "metadata": {},
     "output_type": "display_data"
    },
    {
     "data": {
      "application/javascript": [
       "if (typeof Jupyter !== \"undefined\") {require([\"nbextensions/vpython_libraries/jquery-ui.custom.min\"], function(){console.log(\"JQUERY LOADED\");});}else{element.textContent = ' ';}"
      ],
      "text/plain": [
       "<IPython.core.display.Javascript object>"
      ]
     },
     "metadata": {},
     "output_type": "display_data"
    },
    {
     "name": "stdout",
     "output_type": "stream",
     "text": [
      "Travel distance: 100.33043999999973\n"
     ]
    }
   ],
   "source": [
    "scene = canvas()\n",
    "\n",
    "# objects\n",
    "ball = sphere(pos=vector(0,50,0), radius= 1, color=color.cyan,)\n",
    "ground = box(pos=vector(0,0,0), size=vector(50,0.5,50), color=color.green)\n",
    "\n",
    "# constants\n",
    "initial_h = ball.pos.y\n",
    "deltat = 0.01\n",
    "vscale = 0.1\n",
    "scene.autoscale = False\n",
    "\n",
    "# initial condition\n",
    "t = 0\n",
    "ball.velocity = vector(0,0,0)\n",
    "ball.m = 0.05\n",
    "g = -9.8\n",
    "\n",
    "while t < 4.518:\n",
    "    rate(100)\n",
    "    ball.velocity.y = ball.velocity.y + g*deltat\n",
    "    ball.pos = ball.pos + ball.velocity*deltat\n",
    "    t = t + deltat\n",
    "\n",
    "# Verification\n",
    "fall_h = ball.pos.y\n",
    "dist = initial_h - fall_h\n",
    "print(\"Travel distance: \" + str(dist))"
   ]
  },
  {
   "cell_type": "markdown",
   "id": "99edccd1",
   "metadata": {},
   "source": [
    "\n",
    "### 1.2 Maximum velocity plot at different initial heights\n"
   ]
  },
  {
   "cell_type": "code",
   "execution_count": 11,
   "id": "f01e033d",
   "metadata": {
    "scrolled": false
   },
   "outputs": [
    {
     "data": {
      "text/plain": [
       "Text(0.5, 1.0, 'Initial Heights vs Max Velocity')"
      ]
     },
     "execution_count": 11,
     "metadata": {},
     "output_type": "execute_result"
    },
    {
     "data": {
      "image/png": "[encoded data removed]",
      "text/plain": [
       "<Figure size 640x480 with 1 Axes>"
      ]
     },
     "metadata": {},
     "output_type": "display_data"
    }
   ],
   "source": [
    "# Import\n",
    "%matplotlib inline\n",
    "\n",
    "# Constants\n",
    "deltat = 0.01\n",
    "initial_h = np.array([10, 20, 30, 40, 50, 60])\n",
    "max_v = []\n",
    "v = 0\n",
    "g = -9.8\n",
    "h = 0\n",
    "\n",
    "for height in initial_h:\n",
    "    h = height\n",
    "    v = 0\n",
    "    while h > 0: \n",
    "        v = v + g*deltat\n",
    "        h = h + v*deltat\n",
    "    t = t + deltat\n",
    "    max_v.append(v)\n",
    "\n",
    "plt.scatter(initial_h, max_v, label=\"Legend_label\")\n",
    "plt.plot(initial_h, max_v, label=\"Legend_label\")\n",
    "plt.xlabel(\"Initial Heights\")\n",
    "plt.ylabel(\"Max Velocity\")\n",
    "plt.title(\"Initial Heights vs Max Velocity\")\n",
    "    "
   ]
  },
  {
   "cell_type": "markdown",
   "id": "e3de59d2",
   "metadata": {},
   "source": [
    "\n",
    "### 1.3 With air resistance\n"
   ]
  },
  {
   "cell_type": "markdown",
   "id": "c823b867",
   "metadata": {},
   "source": [
    "__Assumption:__\n",
    "<br>\n",
    "Initial height: 50m\n",
    "<br>\n",
    "Ball's mass: 0.05kg\n",
    "<br>\n",
    "Rho: density of air = 1.2\n",
    "<br>\n",
    "Actual ball's radius: 0.05m\n",
    "<br>\n",
    "Drag coefficient of a sphere: 0.5"
   ]
  },
  {
   "cell_type": "code",
   "execution_count": 4,
   "id": "10bf9f09",
   "metadata": {},
   "outputs": [
    {
     "data": {
      "text/html": [
       "<div id=\"glowscript\" class=\"glowscript\"></div>"
      ],
      "text/plain": [
       "<IPython.core.display.HTML object>"
      ]
     },
     "metadata": {},
     "output_type": "display_data"
    },
    {
     "data": {
      "application/javascript": [
       "if (typeof Jupyter !== \"undefined\") { window.__context = { glowscript_container: $(\"#glowscript\").removeAttr(\"id\")};}else{ element.textContent = ' ';}"
      ],
      "text/plain": [
       "<IPython.core.display.Javascript object>"
      ]
     },
     "metadata": {},
     "output_type": "display_data"
    },
    {
     "name": "stdout",
     "output_type": "stream",
     "text": [
      "Travel distance: 50.633170340315054\n"
     ]
    }
   ],
   "source": [
    "# imports\n",
    "scene = canvas()\n",
    "\n",
    "# objects\n",
    "ball = sphere(pos=vector(0,50,0), radius= 1, color=color.cyan, make_trail=True)\n",
    "ground = box(pos=vector(0,0,0), size=vector(50,0.5,50), color=color.green)\n",
    "\n",
    "# constants\n",
    "t = 0\n",
    "deltat = 0.01\n",
    "vscale = 0.1\n",
    "scene.autoscale = False\n",
    "\n",
    "# initial condition\n",
    "initial_h = ball.pos.y\n",
    "ball.velocity = vector(0,0,0)\n",
    "ball.m = 0.05\n",
    "g = vector(0, -9.8, 0)\n",
    "ball.p = ball.m * ball.velocity      # momentum\n",
    "p = 1.2                            # density of air\n",
    "R = 0.05\n",
    "A = pi * R **2              # reference area\n",
    "C = 0.5                            # drag coefficient of a sphere\n",
    "\n",
    "# main loop\n",
    "while t < 4.518:\n",
    "    rate(100)\n",
    "    \n",
    "    ball.velocity = ball.p/ball.m\n",
    "    F = ball.m*g\n",
    "    Fnet = ball.m*g - 0.5*p*A*C*(mag(ball.velocity)**2)*norm(ball.velocity)\n",
    "    ball.p = ball.p + Fnet*deltat\n",
    "    ball.pos = ball.pos + ball.p*deltat/ball.m\n",
    "    t = t + deltat\n",
    "    \n",
    "# Fall distance\n",
    "fall_h = ball.pos.y\n",
    "dist = initial_h - fall_h\n",
    "print(\"Travel distance: \" + str(dist))"
   ]
  },
  {
   "cell_type": "markdown",
   "id": "048f09cf",
   "metadata": {},
   "source": [
    "\n",
    "### 1.4 Trajectories with Resistance vs Trajectories without Air Resistance\n"
   ]
  },
  {
   "cell_type": "markdown",
   "id": "03031620",
   "metadata": {},
   "source": [
    "\n",
    "__Source & Reference__\n",
    "<br>\n",
    "Air Drag equation: https://www.grc.nasa.gov/www/k-12/rocket/drageq.html\n",
    "<br>\n",
    "Drag Coefficient of a sphere: https://www.engineeringtoolbox.com/drag-coefficient-d_627.html\n",
    "<br>\n",
    "Air density: https://www.earthdata.nasa.gov/topics/atmosphere/atmospheric-pressure/air-mass-density#:~:text=Pure%2C%20dry%20air%20has%20a,of%20at%20least%2050%20km.\n",
    "<br>\n",
    "Python Physics Lesson: https://www.youtube.com/watch?v=aKI0Zz41GZY\n",
    "\n"
   ]
  },
  {
   "cell_type": "markdown",
   "id": "a334f688",
   "metadata": {},
   "source": [
    "__Assumption:__\n",
    "<br>\n",
    "Ball 1's and Ball 2's initial heigt = 5m\n",
    "<br>\n",
    "Ball 1's mass = ball 2's mass = 0.05kg\n",
    "<br>\n",
    "ball 1's velocity vector = ball's 2 velocity vector = (10,20,0)\n",
    "Rho: density of air = 1.2\n",
    "<br>\n",
    "Actual ball's radius: 0.05m\n",
    "<br>\n",
    "Drag coefficient of a sphere: 0.5\n",
    "<br>\n",
    "<br>\n",
    "Ball 1 is __not__ affected by air resistance\n",
    "<br>\n",
    "Ball 2 is affected by air resistance"
   ]
  },
  {
   "cell_type": "code",
   "execution_count": 5,
   "id": "688b1581",
   "metadata": {
    "scrolled": true
   },
   "outputs": [
    {
     "data": {
      "text/html": [
       "<div id=\"glowscript\" class=\"glowscript\"></div>"
      ],
      "text/plain": [
       "<IPython.core.display.HTML object>"
      ]
     },
     "metadata": {},
     "output_type": "display_data"
    },
    {
     "data": {
      "application/javascript": [
       "if (typeof Jupyter !== \"undefined\") { window.__context = { glowscript_container: $(\"#glowscript\").removeAttr(\"id\")};}else{ element.textContent = ' ';}"
      ],
      "text/plain": [
       "<IPython.core.display.Javascript object>"
      ]
     },
     "metadata": {},
     "output_type": "display_data"
    }
   ],
   "source": [
    "# imports\n",
    "scene = canvas()\n",
    "\n",
    "# objects\n",
    "ball1 = sphere(pos=vector(-20,5,0), radius= 1, color=color.cyan, make_trail=True)\n",
    "ball2 = sphere(pos=vector(-20,5,0), radius= 1, color=color.yellow, make_trail=True)\n",
    "ground = box(pos=vector(0,0,0), size=vector(50,0.5,50), color=color.green)\n",
    "\n",
    "# constants\n",
    "t = 0\n",
    "deltat = 0.01\n",
    "vscale = 0.1\n",
    "scene.autoscale = False\n",
    "\n",
    "# initial condition\n",
    "# ball 1 (no air resistance)\n",
    "ball1.v = vector(10,20,0)\n",
    "ball1.m = 0.05\n",
    "\n",
    "# ball 2 (with air resistance)\n",
    "ball2.v = vector(10,20,0)\n",
    "ball2.m = 0.05\n",
    "\n",
    "g = vector(0, -9.8, 0)\n",
    "ball1.p = ball1.m * ball1.v      # momentum\n",
    "ball2.p = ball2.m * ball2.v \n",
    "p = 1.293                            # density of air\n",
    "R = 0.05\n",
    "A = pi * R **2              # reference area\n",
    "C = 0.5                            # drag coefficient of a sphere\n",
    "\n",
    "# main loop\n",
    "while t < 7:\n",
    "    rate(100)\n",
    "    # updating ball 1 momentum, velocity and position\n",
    "    ball1.v = ball1.p/ball1.m\n",
    "    F = ball1.m*g\n",
    "    ball1.p = ball1.p + F*deltat\n",
    "    ball1.pos = ball1.pos + ball1.p*deltat/ball1.m\n",
    "    if (ball1.pos.y < ground.pos.y + 0.3):\n",
    "        ball1.p.y = -ball1.p.y\n",
    "        \n",
    "    # updating ball 2 momentum, velocity and position\n",
    "    ball2.v = ball2.p/ball2.m\n",
    "    Fnet = ball2.m*g - 0.5*p*A*C*(mag(ball2.v)**2)*norm(ball2.v)\n",
    "    ball2.p = ball2.p + Fnet*deltat\n",
    "    ball2.pos = ball2.pos + ball2.p*deltat/ball2.m\n",
    "    if (ball2.pos.y < ground.pos.y + 0.3):\n",
    "        ball2.p.y = -ball2.p.y\n",
    "    \n",
    "    t = t + deltat\n",
    "    \n"
   ]
  },
  {
   "cell_type": "markdown",
   "id": "38922d87",
   "metadata": {},
   "source": [
    "\n",
    "Ball 1 is simulated without air resistance as its force = mg while ball 2 has air resistance implemented as its Fnet in motion is F(mg) - FD (drag force). In the visual simulation result we see that ball 1 without air resistance travel way further than ball 2 as it has much higher max height. On the other hand in reality, ball 2 with air resistance have lower max height due to gravity and after a few bounce, the max height decreases. We can see a big difference between the 2 ball even though they have the same initial velocity.\n"
   ]
  },
  {
   "cell_type": "markdown",
   "id": "cb79b36f",
   "metadata": {},
   "source": [
    "\n",
    "## 2. Ball Bouncing\n"
   ]
  },
  {
   "cell_type": "markdown",
   "id": "4c1a7a24",
   "metadata": {},
   "source": [
    " ### 1. Elastic Collision\n",
    " "
   ]
  },
  {
   "cell_type": "markdown",
   "id": "b05c2c08",
   "metadata": {},
   "source": [
    "__Assumption:__\n",
    "<br>\n",
    "No Kinetic Energy is lost during impact\n",
    "<br>\n",
    "Ball's velocity = 0m/s\n",
    "<br>\n",
    "Ball's initial height = 35m"
   ]
  },
  {
   "cell_type": "code",
   "execution_count": 7,
   "id": "099ca471",
   "metadata": {},
   "outputs": [
    {
     "data": {
      "text/html": [
       "<div id=\"glowscript\" class=\"glowscript\"></div>"
      ],
      "text/plain": [
       "<IPython.core.display.HTML object>"
      ]
     },
     "metadata": {},
     "output_type": "display_data"
    },
    {
     "data": {
      "application/javascript": [
       "if (typeof Jupyter !== \"undefined\") { window.__context = { glowscript_container: $(\"#glowscript\").removeAttr(\"id\")};}else{ element.textContent = ' ';}"
      ],
      "text/plain": [
       "<IPython.core.display.Javascript object>"
      ]
     },
     "metadata": {},
     "output_type": "display_data"
    }
   ],
   "source": [
    "scene = canvas()\n",
    "\n",
    "# objects\n",
    "ball = sphere(pos=vector(0,35,0), radius= 1, color=color.cyan, make_trail=True)\n",
    "ground = box(pos=vector(0,0,0), size=vector(50,0.5,50), color=color.green)\n",
    "\n",
    "# constants\n",
    "deltat = 0.01\n",
    "vscale = 0.1\n",
    "scene.autoscale = False\n",
    "\n",
    "# initial condition\n",
    "t = 0\n",
    "ball.velocity = vector(0,0,0)\n",
    "varr = arrow(pos=ball.pos, axis=vscale*ball.velocity, color=color.yellow)\n",
    "g = 9.8\n",
    "\n",
    "while t < 10:\n",
    "    rate(100)\n",
    "    ball.velocity.y = ball.velocity.y + g*deltat\n",
    "    ball.pos = ball.pos - ball.velocity*deltat\n",
    "    if (ball.pos.y < ground.pos.y) :\n",
    "        ball.velocity.y = -ball.velocity.y\n",
    "    t = t + deltat"
   ]
  },
  {
   "cell_type": "markdown",
   "id": "f8fa7d34",
   "metadata": {},
   "source": [
    "\n",
    "### 2. Inelastic Collision\n"
   ]
  },
  {
   "cell_type": "markdown",
   "id": "29d38715",
   "metadata": {},
   "source": [
    "\n",
    "__Source & Reference__\n",
    "<br>\n",
    "Coefficient of Restitution: https://iopscience.iop.org/article/10.1088/1757-899X/36/1/012038/pdf\n",
    "<br>\n",
    "Elastic vs Inelastic Collisions: https://www.khanacademy.org/science/physics/linear-momentum/elastic-and-inelastic-collisions/a/what-are-elastic-and-inelastic-collisions\n",
    "<br>\n",
    "Ball Bouncing Inelastic Collision: https://www.teachengineering.org/lessons/view/cub_energy_lesson03#:~:text=inelastic%20collision%3A%20A%20collision%20in,partially%20to%20its%20original%20height.\n"
   ]
  },
  {
   "cell_type": "markdown",
   "id": "83449343",
   "metadata": {},
   "source": [
    "\n",
    "__Assumptions/Decision__\n",
    "To simulate the inelastic collision scenario of a bouncing ball to be the most precise, we will be using variables discovered in the research paper about the Coefficient of Restitution above. To be precise, we will be simulating a __golf ball__ bouncing on a __wood__ surface. From the study above, we will use the value of __0.675__ for the coefficient of restitution for a golf ball on a wood surface and __0.046kg__ as mass of the golf ball\n"
   ]
  },
  {
   "cell_type": "code",
   "execution_count": 8,
   "id": "327a2934",
   "metadata": {},
   "outputs": [
    {
     "data": {
      "text/html": [
       "<div id=\"glowscript\" class=\"glowscript\"></div>"
      ],
      "text/plain": [
       "<IPython.core.display.HTML object>"
      ]
     },
     "metadata": {},
     "output_type": "display_data"
    },
    {
     "data": {
      "application/javascript": [
       "if (typeof Jupyter !== \"undefined\") { window.__context = { glowscript_container: $(\"#glowscript\").removeAttr(\"id\")};}else{ element.textContent = ' ';}"
      ],
      "text/plain": [
       "<IPython.core.display.Javascript object>"
      ]
     },
     "metadata": {},
     "output_type": "display_data"
    }
   ],
   "source": [
    "# imports\n",
    "scene = canvas()\n",
    "\n",
    "# objects\n",
    "ball = sphere(pos=vector(0,60,0), radius= 1, color=color.white, make_trail=True)\n",
    "ground = box(pos=vector(0,0,0), size=vector(50,0.5,50), color=vector(1,0.6,0.4))\n",
    "\n",
    "# constants\n",
    "t = 0\n",
    "deltat = 0.01\n",
    "vscale = 0.1\n",
    "scene.autoscale = False\n",
    "\n",
    "# initial condition\n",
    "initial_h = ball.pos.y\n",
    "ball.v = vector(0,0,0)\n",
    "ball.m = 0.046\n",
    "g = vector(0, -9.8, 0)\n",
    "C = 0.675\n",
    "ball.p = ball.m * ball.v      # momentum\n",
    "PE = ball.m*-g*initial_h         # Potential Energy\n",
    "\n",
    "# main loop\n",
    "while t < 15:\n",
    "    rate(100)\n",
    "    ball.v = ball.v + g*deltat\n",
    "    ball.pos = ball.pos + ball.v*deltat\n",
    "    if (ball.pos.y < ground.pos.y) :\n",
    "        ball.v = -C*ball.v\n",
    "    t = t + deltat\n",
    "    "
   ]
  },
  {
   "cell_type": "markdown",
   "id": "c3ae97af",
   "metadata": {},
   "source": [
    "## 3. Ball Launched from Cannon under Earth's gravity"
   ]
  },
  {
   "cell_type": "markdown",
   "id": "e3298851",
   "metadata": {},
   "source": [
    "\n",
    "__Verification:__\n",
    "<br>\n",
    "For verification of this simulation, we will compare the theoretical distance of ball 1 vs the distance it travels in the simulation. \n",
    "<br>\n",
    "<br>\n",
    "We will be using the projectile equation: __x = x0 + vx*t__\n",
    "<br>\n",
    "<br>\n",
    "With this, the theoretical distance ball 1 travel is 220m\n",
    "<br>\n",
    "<br>\n",
    "__Assumption:__\n",
    "<br>\n",
    "All three balls will __NOT__ be affected by air resistance\n",
    "<br>\n",
    "All three balls will be affected by Earth's gravity\n",
    "<br>\n",
    "Ball 1's initial velocity vector = (22,30,0) m/s\n",
    "<br>\n",
    "Ball 2's initial velocity vector = (8,30,0) m/s\n",
    "<br>\n",
    "Ball 3's initial velocity vector = (30,5,0) m/s\n",
    "<br>"
   ]
  },
  {
   "cell_type": "code",
   "execution_count": 9,
   "id": "e628e4db",
   "metadata": {},
   "outputs": [
    {
     "data": {
      "text/html": [
       "<div id=\"glowscript\" class=\"glowscript\"></div>"
      ],
      "text/plain": [
       "<IPython.core.display.HTML object>"
      ]
     },
     "metadata": {},
     "output_type": "display_data"
    },
    {
     "data": {
      "application/javascript": [
       "if (typeof Jupyter !== \"undefined\") { window.__context = { glowscript_container: $(\"#glowscript\").removeAttr(\"id\")};}else{ element.textContent = ' ';}"
      ],
      "text/plain": [
       "<IPython.core.display.Javascript object>"
      ]
     },
     "metadata": {},
     "output_type": "display_data"
    },
    {
     "name": "stdout",
     "output_type": "stream",
     "text": [
      "Theoretical travel distance: 220.0\n",
      "Simulation travel distance: 220.2199999999991\n"
     ]
    }
   ],
   "source": [
    "scene = canvas()\n",
    "\n",
    "# objects\n",
    "ball1 = sphere(pos=vector(-84,11,0), radius= 1, color=color.cyan, make_trail=True)\n",
    "ball2 = sphere(pos=vector(-78,11,0), radius= 1, color=color.yellow, make_trail=True)\n",
    "ball3 = sphere(pos=vector(-60,5,0), radius= 1, color=color.red, make_trail=True)\n",
    "initial_pos = ball1.pos.x\n",
    "\n",
    "ground = box(pos=vector(0,0,0), size=vector(200,0.5,40), color=color.green)\n",
    "l_wheel1 = cylinder(pos=vector(-90,2.5,-3), axis=vector(0,0,1), radius = 2.5)\n",
    "r_wheel1 = cylinder(pos=vector(-90,2.5,2), axis=vector(0,0,1), radius = 2.5)\n",
    "cannon1 = cylinder(pos=vector(-90,2,0), axis=vector(6,9,0), radius = 2)\n",
    "\n",
    "l_wheel2 = cylinder(pos=vector(-80,2.5,-3), axis=vector(0,0,1), radius = 2.5)\n",
    "r_wheel2 = cylinder(pos=vector(-80,2.5,2), axis=vector(0,0,1), radius = 2.5)\n",
    "cannon2 = cylinder(pos=vector(-80,2,0), axis=vector(2,10,0), radius = 2)\n",
    "\n",
    "l_wheel2 = cylinder(pos=vector(-70,2.5,-3), axis=vector(0,0,1), radius = 2.5)\n",
    "r_wheel2 = cylinder(pos=vector(-70,2.5,2), axis=vector(0,0,1), radius = 2.5)\n",
    "cannon2 = cylinder(pos=vector(-70,2,0), axis=vector(9,3,0), radius = 2)\n",
    "\n",
    "# constants\n",
    "deltat = 0.01\n",
    "vscale = 0.1\n",
    "scene.autoscale = False\n",
    "\n",
    "# initial condition\n",
    "t = 0\n",
    "\n",
    "ball1.velocity = vector(22,30,0)\n",
    "varr1 = arrow(pos=ball1.pos, axis=0.2*ball1.velocity, color=color.yellow)\n",
    "\n",
    "ball2.velocity = vector(8,30,0)\n",
    "varr2 = arrow(pos=ball2.pos, axis=0.2*ball2.velocity, color=color.yellow)\n",
    "\n",
    "ball3.velocity = vector(30,5,0)\n",
    "varr3 = arrow(pos=ball3.pos, axis=0.2*ball3.velocity, color=color.yellow)\n",
    "\n",
    "g = vector(0,-9.8,0)\n",
    "\n",
    "while t < 10:\n",
    "    rate(100)\n",
    "    \n",
    "    ball1.velocity = ball1.velocity + g*deltat\n",
    "    ball1.pos = ball1.pos + ball1.velocity*deltat\n",
    "    if (ball1.pos.y < ground.pos.y) :\n",
    "        ball1.velocity.y = -ball1.velocity.y\n",
    "        \n",
    "    ball2.velocity = ball2.velocity + g*deltat\n",
    "    ball2.pos = ball2.pos + ball2.velocity*deltat\n",
    "    if (ball2.pos.y < ground.pos.y) :\n",
    "        ball2.velocity.y = -ball2.velocity.y\n",
    "        \n",
    "    ball3.velocity = ball3.velocity + g*deltat\n",
    "    ball3.pos = ball3.pos + ball3.velocity*deltat\n",
    "    if (ball3.pos.y < ground.pos.y) :\n",
    "        ball3.velocity.y = -ball3.velocity.y\n",
    "        \n",
    "    t = t + deltat\n",
    "    \n",
    "# Verification: Theoretical vs Simulation\n",
    "#Theoretical travel distance: \n",
    "T_dist = ball1.velocity.x*10\n",
    "print(\"Theoretical travel distance: \" + str(T_dist))\n",
    "\n",
    "#Simulation travel distance:\n",
    "S_dist = ball1.pos.x + abs(initial_pos)\n",
    "print(\"Simulation travel distance: \" + str(S_dist))"
   ]
  }
 ],
 "metadata": {
  "kernelspec": {
   "display_name": "Python 3 (ipykernel)",
   "language": "python",
   "name": "python3"
  },
  "language_info": {
   "codemirror_mode": {
    "name": "ipython",
    "version": 3
   },
   "file_extension": ".py",
   "mimetype": "text/x-python",
   "name": "python",
   "nbconvert_exporter": "python",
   "pygments_lexer": "ipython3",
   "version": "3.9.15"
  }
 },
 "nbformat": 4,
 "nbformat_minor": 5
}
